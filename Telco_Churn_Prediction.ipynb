{
 "cells": [
  {
   "cell_type": "markdown",
   "metadata": {},
   "source": [
    "# Telco Churn Prediction"
   ]
  },
  {
   "cell_type": "markdown",
   "metadata": {},
   "source": [
    "<p>Telco is a <strong>fictional company</strong> that provided <strong>home phone and Internet services</strong> to <strong>7043 customers</strong> in <strong>California in Q3</strong>. It indicates <strong>which customers have left or stayed</strong>. Multiple important <strong>demographics</strong> are included for each customer, as well as a <strong>Churn Score and Customer Lifetime Value (CLTV) index</strong>.</p>\n",
    "\n",
    "<p>We aim to understand first if Telco's business is in good health. We will have an overview of their <strong>customers profile</strong>, and will <strong>deep dive the \"Churners\" category</strong> to understand why they left.</p>\n",
    "\n",
    "<p>With the help of this analysis, we will then attempt to improve the <strong>customer churn prediction</strong> in order to <strong>better allocate marketing spendings</strong> at Telco.</p>"
   ]
  },
  {
   "cell_type": "code",
   "execution_count": 1,
   "metadata": {},
   "outputs": [
    {
     "data": {
      "text/html": [
       "<div>\n",
       "<style scoped>\n",
       "    .dataframe tbody tr th:only-of-type {\n",
       "        vertical-align: middle;\n",
       "    }\n",
       "\n",
       "    .dataframe tbody tr th {\n",
       "        vertical-align: top;\n",
       "    }\n",
       "\n",
       "    .dataframe thead th {\n",
       "        text-align: right;\n",
       "    }\n",
       "</style>\n",
       "<table border=\"1\" class=\"dataframe\">\n",
       "  <thead>\n",
       "    <tr style=\"text-align: right;\">\n",
       "      <th></th>\n",
       "      <th>CustomerID</th>\n",
       "      <th>Count</th>\n",
       "      <th>Country</th>\n",
       "      <th>State</th>\n",
       "      <th>City</th>\n",
       "      <th>Zip Code</th>\n",
       "      <th>Lat Long</th>\n",
       "      <th>Latitude</th>\n",
       "      <th>Longitude</th>\n",
       "      <th>Gender</th>\n",
       "      <th>...</th>\n",
       "      <th>Contract</th>\n",
       "      <th>Paperless Billing</th>\n",
       "      <th>Payment Method</th>\n",
       "      <th>Monthly Charges</th>\n",
       "      <th>Total Charges</th>\n",
       "      <th>Churn Label</th>\n",
       "      <th>Churn Value</th>\n",
       "      <th>Churn Score</th>\n",
       "      <th>CLTV</th>\n",
       "      <th>Churn Reason</th>\n",
       "    </tr>\n",
       "  </thead>\n",
       "  <tbody>\n",
       "    <tr>\n",
       "      <th>0</th>\n",
       "      <td>3668-QPYBK</td>\n",
       "      <td>1</td>\n",
       "      <td>United States</td>\n",
       "      <td>California</td>\n",
       "      <td>Los Angeles</td>\n",
       "      <td>90003</td>\n",
       "      <td>33.964131, -118.272783</td>\n",
       "      <td>33.964131</td>\n",
       "      <td>-118.272783</td>\n",
       "      <td>Male</td>\n",
       "      <td>...</td>\n",
       "      <td>Month-to-month</td>\n",
       "      <td>Yes</td>\n",
       "      <td>Mailed check</td>\n",
       "      <td>53.85</td>\n",
       "      <td>108.15</td>\n",
       "      <td>Yes</td>\n",
       "      <td>1</td>\n",
       "      <td>86</td>\n",
       "      <td>3239</td>\n",
       "      <td>Competitor made better offer</td>\n",
       "    </tr>\n",
       "    <tr>\n",
       "      <th>1</th>\n",
       "      <td>9237-HQITU</td>\n",
       "      <td>1</td>\n",
       "      <td>United States</td>\n",
       "      <td>California</td>\n",
       "      <td>Los Angeles</td>\n",
       "      <td>90005</td>\n",
       "      <td>34.059281, -118.30742</td>\n",
       "      <td>34.059281</td>\n",
       "      <td>-118.307420</td>\n",
       "      <td>Female</td>\n",
       "      <td>...</td>\n",
       "      <td>Month-to-month</td>\n",
       "      <td>Yes</td>\n",
       "      <td>Electronic check</td>\n",
       "      <td>70.70</td>\n",
       "      <td>151.65</td>\n",
       "      <td>Yes</td>\n",
       "      <td>1</td>\n",
       "      <td>67</td>\n",
       "      <td>2701</td>\n",
       "      <td>Moved</td>\n",
       "    </tr>\n",
       "    <tr>\n",
       "      <th>2</th>\n",
       "      <td>9305-CDSKC</td>\n",
       "      <td>1</td>\n",
       "      <td>United States</td>\n",
       "      <td>California</td>\n",
       "      <td>Los Angeles</td>\n",
       "      <td>90006</td>\n",
       "      <td>34.048013, -118.293953</td>\n",
       "      <td>34.048013</td>\n",
       "      <td>-118.293953</td>\n",
       "      <td>Female</td>\n",
       "      <td>...</td>\n",
       "      <td>Month-to-month</td>\n",
       "      <td>Yes</td>\n",
       "      <td>Electronic check</td>\n",
       "      <td>99.65</td>\n",
       "      <td>820.5</td>\n",
       "      <td>Yes</td>\n",
       "      <td>1</td>\n",
       "      <td>86</td>\n",
       "      <td>5372</td>\n",
       "      <td>Moved</td>\n",
       "    </tr>\n",
       "    <tr>\n",
       "      <th>3</th>\n",
       "      <td>7892-POOKP</td>\n",
       "      <td>1</td>\n",
       "      <td>United States</td>\n",
       "      <td>California</td>\n",
       "      <td>Los Angeles</td>\n",
       "      <td>90010</td>\n",
       "      <td>34.062125, -118.315709</td>\n",
       "      <td>34.062125</td>\n",
       "      <td>-118.315709</td>\n",
       "      <td>Female</td>\n",
       "      <td>...</td>\n",
       "      <td>Month-to-month</td>\n",
       "      <td>Yes</td>\n",
       "      <td>Electronic check</td>\n",
       "      <td>104.80</td>\n",
       "      <td>3046.05</td>\n",
       "      <td>Yes</td>\n",
       "      <td>1</td>\n",
       "      <td>84</td>\n",
       "      <td>5003</td>\n",
       "      <td>Moved</td>\n",
       "    </tr>\n",
       "    <tr>\n",
       "      <th>4</th>\n",
       "      <td>0280-XJGEX</td>\n",
       "      <td>1</td>\n",
       "      <td>United States</td>\n",
       "      <td>California</td>\n",
       "      <td>Los Angeles</td>\n",
       "      <td>90015</td>\n",
       "      <td>34.039224, -118.266293</td>\n",
       "      <td>34.039224</td>\n",
       "      <td>-118.266293</td>\n",
       "      <td>Male</td>\n",
       "      <td>...</td>\n",
       "      <td>Month-to-month</td>\n",
       "      <td>Yes</td>\n",
       "      <td>Bank transfer (automatic)</td>\n",
       "      <td>103.70</td>\n",
       "      <td>5036.3</td>\n",
       "      <td>Yes</td>\n",
       "      <td>1</td>\n",
       "      <td>89</td>\n",
       "      <td>5340</td>\n",
       "      <td>Competitor had better devices</td>\n",
       "    </tr>\n",
       "  </tbody>\n",
       "</table>\n",
       "<p>5 rows × 33 columns</p>\n",
       "</div>"
      ],
      "text/plain": [
       "   CustomerID  Count        Country       State         City  Zip Code  \\\n",
       "0  3668-QPYBK      1  United States  California  Los Angeles     90003   \n",
       "1  9237-HQITU      1  United States  California  Los Angeles     90005   \n",
       "2  9305-CDSKC      1  United States  California  Los Angeles     90006   \n",
       "3  7892-POOKP      1  United States  California  Los Angeles     90010   \n",
       "4  0280-XJGEX      1  United States  California  Los Angeles     90015   \n",
       "\n",
       "                 Lat Long   Latitude   Longitude  Gender  ...        Contract  \\\n",
       "0  33.964131, -118.272783  33.964131 -118.272783    Male  ...  Month-to-month   \n",
       "1   34.059281, -118.30742  34.059281 -118.307420  Female  ...  Month-to-month   \n",
       "2  34.048013, -118.293953  34.048013 -118.293953  Female  ...  Month-to-month   \n",
       "3  34.062125, -118.315709  34.062125 -118.315709  Female  ...  Month-to-month   \n",
       "4  34.039224, -118.266293  34.039224 -118.266293    Male  ...  Month-to-month   \n",
       "\n",
       "  Paperless Billing             Payment Method  Monthly Charges Total Charges  \\\n",
       "0               Yes               Mailed check            53.85        108.15   \n",
       "1               Yes           Electronic check            70.70        151.65   \n",
       "2               Yes           Electronic check            99.65         820.5   \n",
       "3               Yes           Electronic check           104.80       3046.05   \n",
       "4               Yes  Bank transfer (automatic)           103.70        5036.3   \n",
       "\n",
       "  Churn Label Churn Value Churn Score  CLTV                   Churn Reason  \n",
       "0         Yes           1          86  3239   Competitor made better offer  \n",
       "1         Yes           1          67  2701                          Moved  \n",
       "2         Yes           1          86  5372                          Moved  \n",
       "3         Yes           1          84  5003                          Moved  \n",
       "4         Yes           1          89  5340  Competitor had better devices  \n",
       "\n",
       "[5 rows x 33 columns]"
      ]
     },
     "execution_count": 1,
     "metadata": {},
     "output_type": "execute_result"
    }
   ],
   "source": [
    "# import required packages\n",
    "import pandas as pd\n",
    "import numpy as np\n",
    "\n",
    "import matplotlib.pyplot as plt\n",
    "import seaborn as sns\n",
    "\n",
    "from sklearn.model_selection import train_test_split, GridSearchCV, learning_curve\n",
    "from sklearn.preprocessing import StandardScaler\n",
    "from sklearn.neighbors import KNeighborsClassifier\n",
    "from sklearn.linear_model import LogisticRegression\n",
    "from sklearn.ensemble import RandomForestClassifier\n",
    "from sklearn.metrics import confusion_matrix, classification_report\n",
    "\n",
    "\n",
    "# import dataset and read the 5 first lines\n",
    "telco = pd.read_excel(\"dataset/telco_customer_churn.xlsx\")\n",
    "telco.head()"
   ]
  },
  {
   "cell_type": "code",
   "execution_count": 2,
   "metadata": {},
   "outputs": [
    {
     "data": {
      "text/plain": [
       "CustomerID            object\n",
       "Count                  int64\n",
       "Country               object\n",
       "State                 object\n",
       "City                  object\n",
       "Zip Code               int64\n",
       "Lat Long              object\n",
       "Latitude             float64\n",
       "Longitude            float64\n",
       "Gender                object\n",
       "Senior Citizen        object\n",
       "Partner               object\n",
       "Dependents            object\n",
       "Tenure Months          int64\n",
       "Phone Service         object\n",
       "Multiple Lines        object\n",
       "Internet Service      object\n",
       "Online Security       object\n",
       "Online Backup         object\n",
       "Device Protection     object\n",
       "Tech Support          object\n",
       "Streaming TV          object\n",
       "Streaming Movies      object\n",
       "Contract              object\n",
       "Paperless Billing     object\n",
       "Payment Method        object\n",
       "Monthly Charges      float64\n",
       "Total Charges         object\n",
       "Churn Label           object\n",
       "Churn Value            int64\n",
       "Churn Score            int64\n",
       "CLTV                   int64\n",
       "Churn Reason          object\n",
       "dtype: object"
      ]
     },
     "execution_count": 2,
     "metadata": {},
     "output_type": "execute_result"
    }
   ],
   "source": [
    "# display the type of each column of the dataframe\n",
    "telco.dtypes"
   ]
  },
  {
   "cell_type": "code",
   "execution_count": 3,
   "metadata": {},
   "outputs": [
    {
     "data": {
      "text/plain": [
       "CustomerID           False\n",
       "Count                False\n",
       "Country              False\n",
       "State                False\n",
       "City                 False\n",
       "Zip Code             False\n",
       "Lat Long             False\n",
       "Latitude             False\n",
       "Longitude            False\n",
       "Gender               False\n",
       "Senior Citizen       False\n",
       "Partner              False\n",
       "Dependents           False\n",
       "Tenure Months        False\n",
       "Phone Service        False\n",
       "Multiple Lines       False\n",
       "Internet Service     False\n",
       "Online Security      False\n",
       "Online Backup        False\n",
       "Device Protection    False\n",
       "Tech Support         False\n",
       "Streaming TV         False\n",
       "Streaming Movies     False\n",
       "Contract             False\n",
       "Paperless Billing    False\n",
       "Payment Method       False\n",
       "Monthly Charges      False\n",
       "Total Charges        False\n",
       "Churn Label          False\n",
       "Churn Value          False\n",
       "Churn Score          False\n",
       "CLTV                 False\n",
       "Churn Reason          True\n",
       "dtype: bool"
      ]
     },
     "execution_count": 3,
     "metadata": {},
     "output_type": "execute_result"
    }
   ],
   "source": [
    "# Search for columns with missing values\n",
    "telco.isnull().any()"
   ]
  },
  {
   "cell_type": "markdown",
   "metadata": {},
   "source": [
    "<p>From the previous results, we notice that:</p>\n",
    "<ul>\n",
    "    <li><strong>\"Total Charges\"</strong> is imported as \"string\". However, this column should be of type 'float'. This implies that some values may not be numbers, let's look for them.</li><br>\n",
    "<li><strong>\"Zip Code\"</strong> is interpreted as \"integer\". We should convert it to \"string\" to prevent calculations on this field.</li><br>\n",
    "<li>Only <strong>\"Churn Reason\"</strong> has got missing values. It seems normal for this column as a non-churner would not have any churn reason.</li>\n",
    "</ul>"
   ]
  },
  {
   "cell_type": "code",
   "execution_count": 4,
   "metadata": {},
   "outputs": [
    {
     "name": "stdout",
     "output_type": "stream",
     "text": [
      "Here is the list of the concerned customers:\n",
      "\n",
      "['4472-LVYGI', '3115-CZMZD', '5709-LVOEQ', '4367-NUYAO', '1371-DWPAZ', '7644-OMVMY', '3213-VVOLG', '2520-SGTTA', '2923-ARZLG', '4075-WKNIU', '2775-SEFEE']\n",
      "\n"
     ]
    },
    {
     "data": {
      "text/html": [
       "<div>\n",
       "<style scoped>\n",
       "    .dataframe tbody tr th:only-of-type {\n",
       "        vertical-align: middle;\n",
       "    }\n",
       "\n",
       "    .dataframe tbody tr th {\n",
       "        vertical-align: top;\n",
       "    }\n",
       "\n",
       "    .dataframe thead th {\n",
       "        text-align: right;\n",
       "    }\n",
       "</style>\n",
       "<table border=\"1\" class=\"dataframe\">\n",
       "  <thead>\n",
       "    <tr style=\"text-align: right;\">\n",
       "      <th></th>\n",
       "      <th>CustomerID</th>\n",
       "      <th>Tenure Months</th>\n",
       "      <th>Total Charges</th>\n",
       "    </tr>\n",
       "  </thead>\n",
       "  <tbody>\n",
       "    <tr>\n",
       "      <th>2234</th>\n",
       "      <td>4472-LVYGI</td>\n",
       "      <td>0</td>\n",
       "      <td></td>\n",
       "    </tr>\n",
       "    <tr>\n",
       "      <th>2438</th>\n",
       "      <td>3115-CZMZD</td>\n",
       "      <td>0</td>\n",
       "      <td></td>\n",
       "    </tr>\n",
       "    <tr>\n",
       "      <th>2568</th>\n",
       "      <td>5709-LVOEQ</td>\n",
       "      <td>0</td>\n",
       "      <td></td>\n",
       "    </tr>\n",
       "    <tr>\n",
       "      <th>2667</th>\n",
       "      <td>4367-NUYAO</td>\n",
       "      <td>0</td>\n",
       "      <td></td>\n",
       "    </tr>\n",
       "    <tr>\n",
       "      <th>2856</th>\n",
       "      <td>1371-DWPAZ</td>\n",
       "      <td>0</td>\n",
       "      <td></td>\n",
       "    </tr>\n",
       "    <tr>\n",
       "      <th>4331</th>\n",
       "      <td>7644-OMVMY</td>\n",
       "      <td>0</td>\n",
       "      <td></td>\n",
       "    </tr>\n",
       "    <tr>\n",
       "      <th>4687</th>\n",
       "      <td>3213-VVOLG</td>\n",
       "      <td>0</td>\n",
       "      <td></td>\n",
       "    </tr>\n",
       "    <tr>\n",
       "      <th>5104</th>\n",
       "      <td>2520-SGTTA</td>\n",
       "      <td>0</td>\n",
       "      <td></td>\n",
       "    </tr>\n",
       "    <tr>\n",
       "      <th>5719</th>\n",
       "      <td>2923-ARZLG</td>\n",
       "      <td>0</td>\n",
       "      <td></td>\n",
       "    </tr>\n",
       "    <tr>\n",
       "      <th>6772</th>\n",
       "      <td>4075-WKNIU</td>\n",
       "      <td>0</td>\n",
       "      <td></td>\n",
       "    </tr>\n",
       "    <tr>\n",
       "      <th>6840</th>\n",
       "      <td>2775-SEFEE</td>\n",
       "      <td>0</td>\n",
       "      <td></td>\n",
       "    </tr>\n",
       "  </tbody>\n",
       "</table>\n",
       "</div>"
      ],
      "text/plain": [
       "      CustomerID  Tenure Months Total Charges\n",
       "2234  4472-LVYGI              0              \n",
       "2438  3115-CZMZD              0              \n",
       "2568  5709-LVOEQ              0              \n",
       "2667  4367-NUYAO              0              \n",
       "2856  1371-DWPAZ              0              \n",
       "4331  7644-OMVMY              0              \n",
       "4687  3213-VVOLG              0              \n",
       "5104  2520-SGTTA              0              \n",
       "5719  2923-ARZLG              0              \n",
       "6772  4075-WKNIU              0              \n",
       "6840  2775-SEFEE              0              "
      ]
     },
     "execution_count": 4,
     "metadata": {},
     "output_type": "execute_result"
    }
   ],
   "source": [
    "# set an empty list to retrieve CustomerID with a corrupted value in Total Charges\n",
    "not_number = []\n",
    "\n",
    "# loop over each row of telco dataframe\n",
    "for index, row in telco.iterrows():\n",
    "    # save the CustomerID in a variable\n",
    "    customer = telco.loc[index, \"CustomerID\"]\n",
    "    # check if the Total Charges value x is of type \"int\" or \"float\"\n",
    "    x = telco.loc[index, \"Total Charges\"]\n",
    "    check_type = isinstance(x, (float, int))\n",
    "    # if not, add CustomerID to the list\n",
    "    if not check_type:\n",
    "        not_number.append(customer)\n",
    "\n",
    "# print the list of CustomerID with a corrupted value in Total Charges\n",
    "print(\"Here is the list of the concerned customers:\\n\")\n",
    "print(not_number)\n",
    "print()\n",
    "\n",
    "# create a dataframe with the concerned CustomerID to see how the values look like\n",
    "wrong_totalcharges = telco[\"CustomerID\"].isin(not_number)\n",
    "telco_filtered = telco.loc[wrong_totalcharges, [\"CustomerID\", \"Tenure Months\", \"Total Charges\"]]\n",
    "telco_filtered"
   ]
  },
  {
   "cell_type": "markdown",
   "metadata": {},
   "source": [
    "As no missing values were identified in the \"Total Charges\" column, we can suspect unexpected white spaces. Let's have a look."
   ]
  },
  {
   "cell_type": "code",
   "execution_count": 5,
   "metadata": {},
   "outputs": [
    {
     "name": "stdout",
     "output_type": "stream",
     "text": [
      "Here is the list of the corrupted values:\n",
      "\n",
      "[' ', ' ', ' ', ' ', ' ', ' ', ' ', ' ', ' ', ' ', ' ']\n"
     ]
    }
   ],
   "source": [
    "print(\"Here is the list of the corrupted values:\\n\")\n",
    "print(telco_filtered[\"Total Charges\"].tolist())"
   ]
  },
  {
   "cell_type": "markdown",
   "metadata": {},
   "source": [
    "Indeed, we have got white spaces in this column. As all the concerned customers are new (Tenure Months = 0), we can interpret these white spaces as \"0.0\" for the Total Charges."
   ]
  },
  {
   "cell_type": "code",
   "execution_count": 6,
   "metadata": {},
   "outputs": [
    {
     "data": {
      "text/html": [
       "<div>\n",
       "<style scoped>\n",
       "    .dataframe tbody tr th:only-of-type {\n",
       "        vertical-align: middle;\n",
       "    }\n",
       "\n",
       "    .dataframe tbody tr th {\n",
       "        vertical-align: top;\n",
       "    }\n",
       "\n",
       "    .dataframe thead th {\n",
       "        text-align: right;\n",
       "    }\n",
       "</style>\n",
       "<table border=\"1\" class=\"dataframe\">\n",
       "  <thead>\n",
       "    <tr style=\"text-align: right;\">\n",
       "      <th></th>\n",
       "      <th>CustomerID</th>\n",
       "      <th>Total Charges</th>\n",
       "    </tr>\n",
       "  </thead>\n",
       "  <tbody>\n",
       "    <tr>\n",
       "      <th>2234</th>\n",
       "      <td>4472-LVYGI</td>\n",
       "      <td>0</td>\n",
       "    </tr>\n",
       "    <tr>\n",
       "      <th>2438</th>\n",
       "      <td>3115-CZMZD</td>\n",
       "      <td>0</td>\n",
       "    </tr>\n",
       "    <tr>\n",
       "      <th>2568</th>\n",
       "      <td>5709-LVOEQ</td>\n",
       "      <td>0</td>\n",
       "    </tr>\n",
       "    <tr>\n",
       "      <th>2667</th>\n",
       "      <td>4367-NUYAO</td>\n",
       "      <td>0</td>\n",
       "    </tr>\n",
       "    <tr>\n",
       "      <th>2856</th>\n",
       "      <td>1371-DWPAZ</td>\n",
       "      <td>0</td>\n",
       "    </tr>\n",
       "    <tr>\n",
       "      <th>4331</th>\n",
       "      <td>7644-OMVMY</td>\n",
       "      <td>0</td>\n",
       "    </tr>\n",
       "    <tr>\n",
       "      <th>4687</th>\n",
       "      <td>3213-VVOLG</td>\n",
       "      <td>0</td>\n",
       "    </tr>\n",
       "    <tr>\n",
       "      <th>5104</th>\n",
       "      <td>2520-SGTTA</td>\n",
       "      <td>0</td>\n",
       "    </tr>\n",
       "    <tr>\n",
       "      <th>5719</th>\n",
       "      <td>2923-ARZLG</td>\n",
       "      <td>0</td>\n",
       "    </tr>\n",
       "    <tr>\n",
       "      <th>6772</th>\n",
       "      <td>4075-WKNIU</td>\n",
       "      <td>0</td>\n",
       "    </tr>\n",
       "    <tr>\n",
       "      <th>6840</th>\n",
       "      <td>2775-SEFEE</td>\n",
       "      <td>0</td>\n",
       "    </tr>\n",
       "  </tbody>\n",
       "</table>\n",
       "</div>"
      ],
      "text/plain": [
       "      CustomerID Total Charges\n",
       "2234  4472-LVYGI             0\n",
       "2438  3115-CZMZD             0\n",
       "2568  5709-LVOEQ             0\n",
       "2667  4367-NUYAO             0\n",
       "2856  1371-DWPAZ             0\n",
       "4331  7644-OMVMY             0\n",
       "4687  3213-VVOLG             0\n",
       "5104  2520-SGTTA             0\n",
       "5719  2923-ARZLG             0\n",
       "6772  4075-WKNIU             0\n",
       "6840  2775-SEFEE             0"
      ]
     },
     "metadata": {},
     "output_type": "display_data"
    },
    {
     "data": {
      "text/plain": [
       "dtype('float64')"
      ]
     },
     "execution_count": 6,
     "metadata": {},
     "output_type": "execute_result"
    }
   ],
   "source": [
    "# setting wrong total charges to 0.0\n",
    "telco.loc[wrong_totalcharges, [\"Total Charges\"]] = 0.0\n",
    "display(telco.loc[wrong_totalcharges, [\"CustomerID\", \"Total Charges\"]])\n",
    "\n",
    "# convert Total Charges column into float\n",
    "telco[\"Total Charges\"] = telco[\"Total Charges\"].astype(float)\n",
    "telco[\"Total Charges\"].dtypes"
   ]
  },
  {
   "cell_type": "code",
   "execution_count": 7,
   "metadata": {},
   "outputs": [],
   "source": [
    "# convert Zip Code to string\n",
    "telco[\"Zip Code\"] = telco[\"Zip Code\"].astype(str)"
   ]
  },
  {
   "cell_type": "code",
   "execution_count": 8,
   "metadata": {
    "scrolled": false
   },
   "outputs": [
    {
     "data": {
      "text/plain": [
       "CustomerID            object\n",
       "Count                  int64\n",
       "Country               object\n",
       "State                 object\n",
       "City                  object\n",
       "Zip Code              object\n",
       "Lat Long              object\n",
       "Latitude             float64\n",
       "Longitude            float64\n",
       "Gender                object\n",
       "Senior Citizen        object\n",
       "Partner               object\n",
       "Dependents            object\n",
       "Tenure Months          int64\n",
       "Phone Service         object\n",
       "Multiple Lines        object\n",
       "Internet Service      object\n",
       "Online Security       object\n",
       "Online Backup         object\n",
       "Device Protection     object\n",
       "Tech Support          object\n",
       "Streaming TV          object\n",
       "Streaming Movies      object\n",
       "Contract              object\n",
       "Paperless Billing     object\n",
       "Payment Method        object\n",
       "Monthly Charges      float64\n",
       "Total Charges        float64\n",
       "Churn Label           object\n",
       "Churn Value            int64\n",
       "Churn Score            int64\n",
       "CLTV                   int64\n",
       "Churn Reason          object\n",
       "dtype: object"
      ]
     },
     "execution_count": 8,
     "metadata": {},
     "output_type": "execute_result"
    }
   ],
   "source": [
    "telco.dtypes"
   ]
  },
  {
   "cell_type": "markdown",
   "metadata": {},
   "source": [
    "## Data Exploration"
   ]
  },
  {
   "cell_type": "markdown",
   "metadata": {},
   "source": [
    "In order to <strong>get some insights</strong> about Telco's customers, feel free to discover the <strong>data exploration</strong> I carried out using <strong>Tableau Public</strong>: https://public.tableau.com/views/TelcocustomerchurnIBMdataset/Histoire1?:language=fr&:display_count=y&:origin=viz_share_link\n",
    "\n",
    "Please, also find my live presentation on YouTube (in french): https://youtu.be/VB7Oz4GTfOo?t=14"
   ]
  },
  {
   "cell_type": "code",
   "execution_count": 9,
   "metadata": {},
   "outputs": [
    {
     "data": {
      "text/plain": [
       "<AxesSubplot:xlabel='Churn Score', ylabel='CLTV'>"
      ]
     },
     "execution_count": 9,
     "metadata": {},
     "output_type": "execute_result"
    },
    {
     "data": {
      "image/png": "[encoded data removed]",
      "text/plain": [
       "<Figure size 432x288 with 1 Axes>"
      ]
     },
     "metadata": {
      "needs_background": "light"
     },
     "output_type": "display_data"
    }
   ],
   "source": [
    "# Plot churners and non-churners regarding churn score and CLTV \n",
    "sns.scatterplot(x=\"Churn Score\", y=\"CLTV\", hue=\"Churn Label\", data=telco, alpha=0.2)"
   ]
  },
  {
   "cell_type": "markdown",
   "metadata": {},
   "source": [
    "It seems that every customer with a <strong>Churn Score higher or equal to 80 leaves</strong>, whereas one with <strong>a score lower than 60 stays</strong>. But <strong>a fuzzy area</strong> remains when the <strong>Churn Score is between 60 and 80</strong>. Let's help Telco and try to predict the churn risk of customers with a Churn Score in this interval."
   ]
  },
  {
   "cell_type": "code",
   "execution_count": 10,
   "metadata": {},
   "outputs": [
    {
     "name": "stdout",
     "output_type": "stream",
     "text": [
      "No     1675\n",
      "Yes     764\n",
      "Name: Churn Label, dtype: int64\n",
      "\n"
     ]
    },
    {
     "data": {
      "image/png": "[encoded data removed]",
      "text/plain": [
       "<Figure size 432x288 with 1 Axes>"
      ]
     },
     "metadata": {
      "needs_background": "light"
     },
     "output_type": "display_data"
    }
   ],
   "source": [
    "# filter customers on churn score betwwen 60 and 80\n",
    "telco = telco[(telco[\"Churn Score\"] >= 60) & (telco[\"Churn Score\"] < 80)]\n",
    "\n",
    "# count the number of churners\n",
    "print(telco[\"Churn Label\"].value_counts())\n",
    "print()\n",
    "\n",
    "# Plot the number of churners\n",
    "sns.countplot(x = \"Churn Label\", data=telco)\n",
    "plt.ylabel(\"Nb. of customers\")\n",
    "plt.show()"
   ]
  },
  {
   "cell_type": "code",
   "execution_count": 11,
   "metadata": {},
   "outputs": [
    {
     "name": "stdout",
     "output_type": "stream",
     "text": [
      "The Churners represent 31.32 % of our customer dataset for the studied quarter.\n",
      "\n",
      "68.68 % of Telco's customers remained loyal during the studied quarter.\n"
     ]
    }
   ],
   "source": [
    "count_churners = len(telco[telco['Churn Label'] == \"Yes\"])\n",
    "count_no_churners = len(telco[telco['Churn Label'] == \"No\"])\n",
    "\n",
    "pct_of_churners = (count_churners / (count_churners + count_no_churners)) * 100\n",
    "\n",
    "print(f\"The Churners represent {round(pct_of_churners, 2)} % of our customer dataset for the studied quarter.\\n\")\n",
    "print(f\"{round(100 - pct_of_churners, 2)} % of Telco's customers remained loyal during the studied quarter.\")"
   ]
  },
  {
   "cell_type": "code",
   "execution_count": 12,
   "metadata": {},
   "outputs": [
    {
     "data": {
      "text/html": [
       "<div>\n",
       "<style scoped>\n",
       "    .dataframe tbody tr th:only-of-type {\n",
       "        vertical-align: middle;\n",
       "    }\n",
       "\n",
       "    .dataframe tbody tr th {\n",
       "        vertical-align: top;\n",
       "    }\n",
       "\n",
       "    .dataframe thead th {\n",
       "        text-align: right;\n",
       "    }\n",
       "</style>\n",
       "<table border=\"1\" class=\"dataframe\">\n",
       "  <thead>\n",
       "    <tr style=\"text-align: right;\">\n",
       "      <th></th>\n",
       "      <th>Count</th>\n",
       "      <th>Latitude</th>\n",
       "      <th>Longitude</th>\n",
       "      <th>Tenure Months</th>\n",
       "      <th>Monthly Charges</th>\n",
       "      <th>Total Charges</th>\n",
       "      <th>Churn Value</th>\n",
       "      <th>Churn Score</th>\n",
       "      <th>CLTV</th>\n",
       "    </tr>\n",
       "    <tr>\n",
       "      <th>Churn Label</th>\n",
       "      <th></th>\n",
       "      <th></th>\n",
       "      <th></th>\n",
       "      <th></th>\n",
       "      <th></th>\n",
       "      <th></th>\n",
       "      <th></th>\n",
       "      <th></th>\n",
       "      <th></th>\n",
       "    </tr>\n",
       "  </thead>\n",
       "  <tbody>\n",
       "    <tr>\n",
       "      <th>No</th>\n",
       "      <td>1.0</td>\n",
       "      <td>36.284745</td>\n",
       "      <td>-119.826431</td>\n",
       "      <td>38.017910</td>\n",
       "      <td>61.313164</td>\n",
       "      <td>2557.922985</td>\n",
       "      <td>0.0</td>\n",
       "      <td>69.645970</td>\n",
       "      <td>4482.423881</td>\n",
       "    </tr>\n",
       "    <tr>\n",
       "      <th>Yes</th>\n",
       "      <td>1.0</td>\n",
       "      <td>36.346076</td>\n",
       "      <td>-119.862979</td>\n",
       "      <td>16.807592</td>\n",
       "      <td>74.134293</td>\n",
       "      <td>1396.962958</td>\n",
       "      <td>1.0</td>\n",
       "      <td>71.981675</td>\n",
       "      <td>4138.068063</td>\n",
       "    </tr>\n",
       "  </tbody>\n",
       "</table>\n",
       "</div>"
      ],
      "text/plain": [
       "             Count   Latitude   Longitude  Tenure Months  Monthly Charges  \\\n",
       "Churn Label                                                                 \n",
       "No             1.0  36.284745 -119.826431      38.017910        61.313164   \n",
       "Yes            1.0  36.346076 -119.862979      16.807592        74.134293   \n",
       "\n",
       "             Total Charges  Churn Value  Churn Score         CLTV  \n",
       "Churn Label                                                        \n",
       "No             2557.922985          0.0    69.645970  4482.423881  \n",
       "Yes            1396.962958          1.0    71.981675  4138.068063  "
      ]
     },
     "execution_count": 12,
     "metadata": {},
     "output_type": "execute_result"
    }
   ],
   "source": [
    "telco.groupby(\"Churn Label\").mean()"
   ]
  },
  {
   "cell_type": "code",
   "execution_count": 13,
   "metadata": {},
   "outputs": [
    {
     "data": {
      "image/png": "[encoded data removed]",
      "text/plain": [
       "<Figure size 432x288 with 1 Axes>"
      ]
     },
     "metadata": {
      "needs_background": "light"
     },
     "output_type": "display_data"
    }
   ],
   "source": [
    "pd.crosstab(telco['Gender'], telco[\"Churn Label\"]).plot(kind=\"bar\")\n",
    "plt.ylabel(\"Nb. of customers\")\n",
    "plt.show()"
   ]
  },
  {
   "cell_type": "markdown",
   "metadata": {},
   "source": [
    "The number of Churners does not seem to depend on the gender. I do not think it is a good predictor of the outcome variable."
   ]
  },
  {
   "cell_type": "code",
   "execution_count": 14,
   "metadata": {},
   "outputs": [
    {
     "data": {
      "image/png": "[encoded data removed]",
      "text/plain": [
       "<Figure size 432x288 with 1 Axes>"
      ]
     },
     "metadata": {
      "needs_background": "light"
     },
     "output_type": "display_data"
    }
   ],
   "source": [
    "pd.crosstab(telco['Contract'], telco[\"Churn Label\"]).plot(kind=\"bar\")\n",
    "plt.ylabel(\"Nb. of customers\")\n",
    "plt.show()"
   ]
  },
  {
   "cell_type": "markdown",
   "metadata": {},
   "source": [
    "The number of churners seems to differ from a contract type to another. This can be a good predictor of our target variable."
   ]
  },
  {
   "cell_type": "code",
   "execution_count": 15,
   "metadata": {
    "scrolled": true
   },
   "outputs": [
    {
     "data": {
      "image/png": "[encoded data removed]",
      "text/plain": [
       "<Figure size 432x288 with 1 Axes>"
      ]
     },
     "metadata": {
      "needs_background": "light"
     },
     "output_type": "display_data"
    }
   ],
   "source": [
    "pd.crosstab(telco['Senior Citizen'], telco[\"Churn Label\"]).plot(kind=\"bar\")\n",
    "plt.xlabel(\"Senior Citizen (>65 yo)\")\n",
    "plt.ylabel(\"Nb. of customers\")\n",
    "plt.show()"
   ]
  },
  {
   "cell_type": "markdown",
   "metadata": {},
   "source": [
    "The age class of the customers can have an impact on the Churn, as it seems that almost the half of senior citizen customers left the company."
   ]
  },
  {
   "cell_type": "code",
   "execution_count": 16,
   "metadata": {
    "scrolled": false
   },
   "outputs": [
    {
     "data": {
      "image/png": "[encoded data removed]",
      "text/plain": [
       "<Figure size 432x288 with 1 Axes>"
      ]
     },
     "metadata": {
      "needs_background": "light"
     },
     "output_type": "display_data"
    },
    {
     "data": {
      "image/png": "[encoded data removed]",
      "text/plain": [
       "<Figure size 432x288 with 1 Axes>"
      ]
     },
     "metadata": {
      "needs_background": "light"
     },
     "output_type": "display_data"
    }
   ],
   "source": [
    "pd.crosstab(telco['Phone Service'], telco[\"Churn Label\"]).plot(kind=\"bar\")\n",
    "plt.ylabel(\"Nb. of customers\")\n",
    "pd.crosstab(telco['Internet Service'], telco[\"Churn Label\"]).plot(kind=\"bar\")\n",
    "plt.ylabel(\"Nb. of customers\")\n",
    "plt.show()"
   ]
  },
  {
   "cell_type": "markdown",
   "metadata": {},
   "source": [
    "The subscribed services may also be a good predictor."
   ]
  },
  {
   "cell_type": "markdown",
   "metadata": {},
   "source": [
    "## Data preparation"
   ]
  },
  {
   "cell_type": "markdown",
   "metadata": {},
   "source": [
    "<p>First, let's identify our features and the target variable.</p>\n",
    "\n",
    "<strong>Features:</strong>\n",
    "<ul>\n",
    "    <li>Senior Citizen</li>\n",
    "    <li>Tenure Months</li>\n",
    "    <li>Phone Service</li>\n",
    "    <li>Internet Service</li>\n",
    "    <li>Contract</li>\n",
    "    <li>Monthly Charges</li>\n",
    "    <li>Total Charges</li>\n",
    "    <li>Churn Score</li>\n",
    "    <li>CLTV</li>\n",
    "</ul>\n",
    "<p><strong>Target variable:</strong> Churn Label (Yes, No)</p>"
   ]
  },
  {
   "cell_type": "code",
   "execution_count": 17,
   "metadata": {},
   "outputs": [],
   "source": [
    "# define the features list\n",
    "features_list = [\"Senior Citizen\", \"Tenure Months\", \"Phone Service\", \"Internet Service\",\n",
    "                      \"Contract\", \"Monthly Charges\", \"Total Charges\", \"Churn Score\", \"CLTV\"]\n",
    "\n",
    "# define the target variable\n",
    "target_variable = \"Churn Value\""
   ]
  },
  {
   "cell_type": "code",
   "execution_count": 18,
   "metadata": {},
   "outputs": [
    {
     "data": {
      "text/html": [
       "<div>\n",
       "<style scoped>\n",
       "    .dataframe tbody tr th:only-of-type {\n",
       "        vertical-align: middle;\n",
       "    }\n",
       "\n",
       "    .dataframe tbody tr th {\n",
       "        vertical-align: top;\n",
       "    }\n",
       "\n",
       "    .dataframe thead th {\n",
       "        text-align: right;\n",
       "    }\n",
       "</style>\n",
       "<table border=\"1\" class=\"dataframe\">\n",
       "  <thead>\n",
       "    <tr style=\"text-align: right;\">\n",
       "      <th></th>\n",
       "      <th>Tenure Months</th>\n",
       "      <th>Monthly Charges</th>\n",
       "      <th>Total Charges</th>\n",
       "      <th>Churn Score</th>\n",
       "      <th>CLTV</th>\n",
       "      <th>Senior Citizen_Yes</th>\n",
       "      <th>Phone Service_Yes</th>\n",
       "      <th>Internet Service_Fiber optic</th>\n",
       "      <th>Internet Service_No</th>\n",
       "      <th>Contract_One year</th>\n",
       "      <th>Contract_Two year</th>\n",
       "    </tr>\n",
       "  </thead>\n",
       "  <tbody>\n",
       "    <tr>\n",
       "      <th>1</th>\n",
       "      <td>2</td>\n",
       "      <td>70.70</td>\n",
       "      <td>151.65</td>\n",
       "      <td>67</td>\n",
       "      <td>2701</td>\n",
       "      <td>0</td>\n",
       "      <td>1</td>\n",
       "      <td>1</td>\n",
       "      <td>0</td>\n",
       "      <td>0</td>\n",
       "      <td>0</td>\n",
       "    </tr>\n",
       "    <tr>\n",
       "      <th>5</th>\n",
       "      <td>10</td>\n",
       "      <td>55.20</td>\n",
       "      <td>528.35</td>\n",
       "      <td>78</td>\n",
       "      <td>5925</td>\n",
       "      <td>0</td>\n",
       "      <td>1</td>\n",
       "      <td>0</td>\n",
       "      <td>0</td>\n",
       "      <td>0</td>\n",
       "      <td>0</td>\n",
       "    </tr>\n",
       "    <tr>\n",
       "      <th>8</th>\n",
       "      <td>47</td>\n",
       "      <td>99.35</td>\n",
       "      <td>4749.15</td>\n",
       "      <td>77</td>\n",
       "      <td>5789</td>\n",
       "      <td>0</td>\n",
       "      <td>1</td>\n",
       "      <td>1</td>\n",
       "      <td>0</td>\n",
       "      <td>0</td>\n",
       "      <td>0</td>\n",
       "    </tr>\n",
       "    <tr>\n",
       "      <th>10</th>\n",
       "      <td>17</td>\n",
       "      <td>64.70</td>\n",
       "      <td>1093.10</td>\n",
       "      <td>74</td>\n",
       "      <td>3022</td>\n",
       "      <td>0</td>\n",
       "      <td>1</td>\n",
       "      <td>0</td>\n",
       "      <td>0</td>\n",
       "      <td>0</td>\n",
       "      <td>0</td>\n",
       "    </tr>\n",
       "    <tr>\n",
       "      <th>11</th>\n",
       "      <td>5</td>\n",
       "      <td>69.70</td>\n",
       "      <td>316.90</td>\n",
       "      <td>66</td>\n",
       "      <td>2454</td>\n",
       "      <td>0</td>\n",
       "      <td>1</td>\n",
       "      <td>1</td>\n",
       "      <td>0</td>\n",
       "      <td>0</td>\n",
       "      <td>0</td>\n",
       "    </tr>\n",
       "    <tr>\n",
       "      <th>...</th>\n",
       "      <td>...</td>\n",
       "      <td>...</td>\n",
       "      <td>...</td>\n",
       "      <td>...</td>\n",
       "      <td>...</td>\n",
       "      <td>...</td>\n",
       "      <td>...</td>\n",
       "      <td>...</td>\n",
       "      <td>...</td>\n",
       "      <td>...</td>\n",
       "      <td>...</td>\n",
       "    </tr>\n",
       "    <tr>\n",
       "      <th>7029</th>\n",
       "      <td>18</td>\n",
       "      <td>95.05</td>\n",
       "      <td>1679.40</td>\n",
       "      <td>60</td>\n",
       "      <td>4524</td>\n",
       "      <td>0</td>\n",
       "      <td>1</td>\n",
       "      <td>1</td>\n",
       "      <td>0</td>\n",
       "      <td>0</td>\n",
       "      <td>0</td>\n",
       "    </tr>\n",
       "    <tr>\n",
       "      <th>7030</th>\n",
       "      <td>13</td>\n",
       "      <td>73.35</td>\n",
       "      <td>931.55</td>\n",
       "      <td>65</td>\n",
       "      <td>4645</td>\n",
       "      <td>0</td>\n",
       "      <td>1</td>\n",
       "      <td>0</td>\n",
       "      <td>0</td>\n",
       "      <td>0</td>\n",
       "      <td>0</td>\n",
       "    </tr>\n",
       "    <tr>\n",
       "      <th>7032</th>\n",
       "      <td>6</td>\n",
       "      <td>44.40</td>\n",
       "      <td>263.05</td>\n",
       "      <td>71</td>\n",
       "      <td>4611</td>\n",
       "      <td>1</td>\n",
       "      <td>0</td>\n",
       "      <td>0</td>\n",
       "      <td>0</td>\n",
       "      <td>0</td>\n",
       "      <td>0</td>\n",
       "    </tr>\n",
       "    <tr>\n",
       "      <th>7034</th>\n",
       "      <td>55</td>\n",
       "      <td>60.00</td>\n",
       "      <td>3316.10</td>\n",
       "      <td>71</td>\n",
       "      <td>4212</td>\n",
       "      <td>1</td>\n",
       "      <td>1</td>\n",
       "      <td>0</td>\n",
       "      <td>0</td>\n",
       "      <td>1</td>\n",
       "      <td>0</td>\n",
       "    </tr>\n",
       "    <tr>\n",
       "      <th>7040</th>\n",
       "      <td>72</td>\n",
       "      <td>103.20</td>\n",
       "      <td>7362.90</td>\n",
       "      <td>71</td>\n",
       "      <td>5560</td>\n",
       "      <td>0</td>\n",
       "      <td>1</td>\n",
       "      <td>1</td>\n",
       "      <td>0</td>\n",
       "      <td>1</td>\n",
       "      <td>0</td>\n",
       "    </tr>\n",
       "  </tbody>\n",
       "</table>\n",
       "<p>2439 rows × 11 columns</p>\n",
       "</div>"
      ],
      "text/plain": [
       "      Tenure Months  Monthly Charges  Total Charges  Churn Score  CLTV  \\\n",
       "1                 2            70.70         151.65           67  2701   \n",
       "5                10            55.20         528.35           78  5925   \n",
       "8                47            99.35        4749.15           77  5789   \n",
       "10               17            64.70        1093.10           74  3022   \n",
       "11                5            69.70         316.90           66  2454   \n",
       "...             ...              ...            ...          ...   ...   \n",
       "7029             18            95.05        1679.40           60  4524   \n",
       "7030             13            73.35         931.55           65  4645   \n",
       "7032              6            44.40         263.05           71  4611   \n",
       "7034             55            60.00        3316.10           71  4212   \n",
       "7040             72           103.20        7362.90           71  5560   \n",
       "\n",
       "      Senior Citizen_Yes  Phone Service_Yes  Internet Service_Fiber optic  \\\n",
       "1                      0                  1                             1   \n",
       "5                      0                  1                             0   \n",
       "8                      0                  1                             1   \n",
       "10                     0                  1                             0   \n",
       "11                     0                  1                             1   \n",
       "...                  ...                ...                           ...   \n",
       "7029                   0                  1                             1   \n",
       "7030                   0                  1                             0   \n",
       "7032                   1                  0                             0   \n",
       "7034                   1                  1                             0   \n",
       "7040                   0                  1                             1   \n",
       "\n",
       "      Internet Service_No  Contract_One year  Contract_Two year  \n",
       "1                       0                  0                  0  \n",
       "5                       0                  0                  0  \n",
       "8                       0                  0                  0  \n",
       "10                      0                  0                  0  \n",
       "11                      0                  0                  0  \n",
       "...                   ...                ...                ...  \n",
       "7029                    0                  0                  0  \n",
       "7030                    0                  0                  0  \n",
       "7032                    0                  0                  0  \n",
       "7034                    0                  1                  0  \n",
       "7040                    0                  1                  0  \n",
       "\n",
       "[2439 rows x 11 columns]"
      ]
     },
     "execution_count": 18,
     "metadata": {},
     "output_type": "execute_result"
    }
   ],
   "source": [
    "# dummification of our features\n",
    "dummy_features = pd.get_dummies(telco[features_list], drop_first=True)\n",
    "dummy_features"
   ]
  },
  {
   "cell_type": "code",
   "execution_count": 19,
   "metadata": {},
   "outputs": [
    {
     "name": "stdout",
     "output_type": "stream",
     "text": [
      "[[2.00000e+00 7.07000e+01 1.51650e+02 ... 0.00000e+00 0.00000e+00\n",
      "  0.00000e+00]\n",
      " [1.00000e+01 5.52000e+01 5.28350e+02 ... 0.00000e+00 0.00000e+00\n",
      "  0.00000e+00]\n",
      " [4.70000e+01 9.93500e+01 4.74915e+03 ... 0.00000e+00 0.00000e+00\n",
      "  0.00000e+00]\n",
      " ...\n",
      " [6.00000e+00 4.44000e+01 2.63050e+02 ... 0.00000e+00 0.00000e+00\n",
      "  0.00000e+00]\n",
      " [5.50000e+01 6.00000e+01 3.31610e+03 ... 0.00000e+00 1.00000e+00\n",
      "  0.00000e+00]\n",
      " [7.20000e+01 1.03200e+02 7.36290e+03 ... 0.00000e+00 1.00000e+00\n",
      "  0.00000e+00]]\n",
      "\n",
      "[1 1 1 ... 0 0 0]\n"
     ]
    }
   ],
   "source": [
    "# Set features and target variable to numpy arrays\n",
    "\n",
    "X = dummy_features.to_numpy()\n",
    "y = telco[target_variable].to_numpy()\n",
    "\n",
    "print(X)\n",
    "print()\n",
    "print(y)"
   ]
  },
  {
   "cell_type": "code",
   "execution_count": 20,
   "metadata": {},
   "outputs": [
    {
     "data": {
      "text/plain": [
       "array([[-1.21823258,  0.17985766, -0.93186799, ..., -0.51736981,\n",
       "        -0.50012812, -0.53832496],\n",
       "       [-0.88644644, -0.33921639, -0.76001206, ..., -0.51736981,\n",
       "        -0.50012812, -0.53832496],\n",
       "       [ 0.64806443,  1.13930741,  1.16557724, ..., -0.51736981,\n",
       "        -0.50012812, -0.53832496],\n",
       "       ...,\n",
       "       [-1.05233951, -0.70089378, -0.88104572, ..., -0.51736981,\n",
       "        -0.50012812, -0.53832496],\n",
       "       [ 0.97985057, -0.17847088,  0.51179934, ..., -0.51736981,\n",
       "         1.99948764, -0.53832496],\n",
       "       [ 1.68489611,  1.26823871,  2.35800736, ..., -0.51736981,\n",
       "         1.99948764, -0.53832496]])"
      ]
     },
     "execution_count": 20,
     "metadata": {},
     "output_type": "execute_result"
    }
   ],
   "source": [
    "# Normalize X\n",
    "scaler = StandardScaler()\n",
    "\n",
    "X = scaler.fit_transform(X)\n",
    "X"
   ]
  },
  {
   "cell_type": "code",
   "execution_count": 21,
   "metadata": {},
   "outputs": [],
   "source": [
    "# Divide dataset Train set & Test set\n",
    "X_train, X_test, y_train, y_test = train_test_split(X, y, test_size=0.2, random_state=0)"
   ]
  },
  {
   "cell_type": "markdown",
   "metadata": {},
   "source": [
    "## Churn prediction using classification models"
   ]
  },
  {
   "cell_type": "markdown",
   "metadata": {},
   "source": [
    "### K-Nearest Neighbors (KNN)"
   ]
  },
  {
   "cell_type": "code",
   "execution_count": 22,
   "metadata": {},
   "outputs": [
    {
     "data": {
      "text/plain": [
       "GridSearchCV(cv=5, estimator=KNeighborsClassifier(),\n",
       "             param_grid={'metric': ['euclidean', 'manhattan'],\n",
       "                         'n_neighbors': array([ 1,  2,  3,  4,  5,  6,  7,  8,  9, 10, 11, 12, 13, 14, 15, 16, 17,\n",
       "       18, 19])})"
      ]
     },
     "execution_count": 22,
     "metadata": {},
     "output_type": "execute_result"
    }
   ],
   "source": [
    "# Set the range of parameters to test\n",
    "param_grid = {'n_neighbors': np.arange(1, 20),\n",
    "             'metric': ['euclidean', 'manhattan']}\n",
    "\n",
    "# specify a number of split for cross validation & fit the model to the training set\n",
    "grid = GridSearchCV(KNeighborsClassifier(), param_grid, cv=5)\n",
    "\n",
    "grid.fit(X_train, y_train)"
   ]
  },
  {
   "cell_type": "code",
   "execution_count": 23,
   "metadata": {},
   "outputs": [
    {
     "name": "stdout",
     "output_type": "stream",
     "text": [
      "Best score: 0.7959984261263033\n",
      "\n",
      "It has been reached with the following parameters: {'metric': 'manhattan', 'n_neighbors': 17}.\n"
     ]
    }
   ],
   "source": [
    "print(f\"Best score: {grid.best_score_}\\n\")\n",
    "print(f\"It has been reached with the following parameters: {grid.best_params_}.\")"
   ]
  },
  {
   "cell_type": "code",
   "execution_count": 24,
   "metadata": {},
   "outputs": [
    {
     "data": {
      "text/plain": [
       "0.7991803278688525"
      ]
     },
     "execution_count": 24,
     "metadata": {},
     "output_type": "execute_result"
    }
   ],
   "source": [
    "# apply the best model on the test set\n",
    "model = grid.best_estimator_\n",
    "model.score(X_test, y_test)"
   ]
  },
  {
   "cell_type": "code",
   "execution_count": 25,
   "metadata": {
    "scrolled": true
   },
   "outputs": [
    {
     "name": "stdout",
     "output_type": "stream",
     "text": [
      "[[289  53]\n",
      " [ 45 101]]\n"
     ]
    },
    {
     "data": {
      "text/plain": [
       "<AxesSubplot:>"
      ]
     },
     "execution_count": 25,
     "metadata": {},
     "output_type": "execute_result"
    },
    {
     "data": {
      "image/png": "[encoded data removed]",
      "text/plain": [
       "<Figure size 432x288 with 2 Axes>"
      ]
     },
     "metadata": {
      "needs_background": "light"
     },
     "output_type": "display_data"
    }
   ],
   "source": [
    "# create a confusion matrix to analyse the model's accuracy\n",
    "y_pred = model.predict(X_test)\n",
    "cf_matrix = confusion_matrix(y_test, y_pred)\n",
    "\n",
    "print(cf_matrix)\n",
    "sns.heatmap(cf_matrix, annot=True, fmt=\"d\")"
   ]
  },
  {
   "cell_type": "code",
   "execution_count": 26,
   "metadata": {
    "scrolled": true
   },
   "outputs": [
    {
     "name": "stdout",
     "output_type": "stream",
     "text": [
      "              precision    recall  f1-score   support\n",
      "\n",
      "           0       0.87      0.85      0.86       342\n",
      "           1       0.66      0.69      0.67       146\n",
      "\n",
      "    accuracy                           0.80       488\n",
      "   macro avg       0.76      0.77      0.76       488\n",
      "weighted avg       0.80      0.80      0.80       488\n",
      "\n"
     ]
    }
   ],
   "source": [
    "print(classification_report(y_test, y_pred))"
   ]
  },
  {
   "cell_type": "code",
   "execution_count": 27,
   "metadata": {
    "scrolled": true
   },
   "outputs": [
    {
     "name": "stdout",
     "output_type": "stream",
     "text": [
      "[ 312  624  936 1248 1560]\n"
     ]
    },
    {
     "data": {
      "text/plain": [
       "<matplotlib.legend.Legend at 0x20324bb9a90>"
      ]
     },
     "execution_count": 27,
     "metadata": {},
     "output_type": "execute_result"
    },
    {
     "data": {
      "image/png": "[encoded data removed]",
      "text/plain": [
       "<Figure size 432x288 with 1 Axes>"
      ]
     },
     "metadata": {
      "needs_background": "light"
     },
     "output_type": "display_data"
    }
   ],
   "source": [
    "# create a learning curve\n",
    "N, train_score, val_score = learning_curve(model, X_train, y_train, train_sizes = np.linspace(0.2, 1.0, 5), cv=5)\n",
    "print(N)\n",
    "\n",
    "plt.plot(N, train_score.mean(axis=1), label='train')\n",
    "plt.plot(N, val_score.mean(axis=1), label='test')\n",
    "\n",
    "plt.xlabel('train_sizes')\n",
    "plt.ylabel('scores')\n",
    "plt.legend()"
   ]
  },
  {
   "cell_type": "markdown",
   "metadata": {},
   "source": [
    "# Logistic Regression"
   ]
  },
  {
   "cell_type": "code",
   "execution_count": 28,
   "metadata": {},
   "outputs": [
    {
     "data": {
      "text/plain": [
       "GridSearchCV(cv=5, estimator=LogisticRegression(random_state=0),\n",
       "             param_grid={'C': array([1.00000000e-04, 2.63665090e-04, 6.95192796e-04, 1.83298071e-03,\n",
       "       4.83293024e-03, 1.27427499e-02, 3.35981829e-02, 8.85866790e-02,\n",
       "       2.33572147e-01, 6.15848211e-01, 1.62377674e+00, 4.28133240e+00,\n",
       "       1.12883789e+01, 2.97635144e+01, 7.84759970e+01, 2.06913808e+02,\n",
       "       5.45559478e+02, 1.43844989e+03, 3.79269019e+03, 1.00000000e+04]),\n",
       "                         'penalty': ['l1', 'l2'], 'solver': ['liblinear']})"
      ]
     },
     "execution_count": 28,
     "metadata": {},
     "output_type": "execute_result"
    }
   ],
   "source": [
    "# Set the range of parameters to test\n",
    "param_grid = {'penalty': ['l1', 'l2'],\n",
    "             'C': np.logspace(-4, 4, 20),\n",
    "             'solver': ['liblinear']}\n",
    "\n",
    "# specify a number of split for cross validation & fit the model to the training set\n",
    "grid = GridSearchCV(LogisticRegression(random_state=0), param_grid, cv=5)\n",
    "\n",
    "grid.fit(X_train, y_train)"
   ]
  },
  {
   "cell_type": "code",
   "execution_count": 29,
   "metadata": {},
   "outputs": [
    {
     "name": "stdout",
     "output_type": "stream",
     "text": [
      "Best score: 0.7893370057052922\n",
      "\n",
      "It has been reached with the following parameters: {'C': 29.763514416313132, 'penalty': 'l1', 'solver': 'liblinear'}.\n"
     ]
    }
   ],
   "source": [
    "print(f\"Best score: {grid.best_score_}\\n\")\n",
    "print(f\"It has been reached with the following parameters: {grid.best_params_}.\")"
   ]
  },
  {
   "cell_type": "code",
   "execution_count": 30,
   "metadata": {},
   "outputs": [
    {
     "data": {
      "text/plain": [
       "0.8176229508196722"
      ]
     },
     "execution_count": 30,
     "metadata": {},
     "output_type": "execute_result"
    }
   ],
   "source": [
    "# apply the best model on the test set\n",
    "model = grid.best_estimator_\n",
    "model.score(X_test, y_test)"
   ]
  },
  {
   "cell_type": "code",
   "execution_count": 31,
   "metadata": {
    "scrolled": true
   },
   "outputs": [
    {
     "name": "stdout",
     "output_type": "stream",
     "text": [
      "[[298  44]\n",
      " [ 45 101]]\n"
     ]
    },
    {
     "data": {
      "text/plain": [
       "<AxesSubplot:>"
      ]
     },
     "execution_count": 31,
     "metadata": {},
     "output_type": "execute_result"
    },
    {
     "data": {
      "image/png": "[encoded data removed]",
      "text/plain": [
       "<Figure size 432x288 with 2 Axes>"
      ]
     },
     "metadata": {
      "needs_background": "light"
     },
     "output_type": "display_data"
    }
   ],
   "source": [
    "# create a confusion matrix to analyse the model's accuracy\n",
    "y_pred = model.predict(X_test)\n",
    "cf_matrix = confusion_matrix(y_test, y_pred)\n",
    "print(cf_matrix)\n",
    "sns.heatmap(cf_matrix, annot=True, fmt=\"d\")"
   ]
  },
  {
   "cell_type": "code",
   "execution_count": 32,
   "metadata": {
    "scrolled": true
   },
   "outputs": [
    {
     "name": "stdout",
     "output_type": "stream",
     "text": [
      "              precision    recall  f1-score   support\n",
      "\n",
      "           0       0.87      0.87      0.87       342\n",
      "           1       0.70      0.69      0.69       146\n",
      "\n",
      "    accuracy                           0.82       488\n",
      "   macro avg       0.78      0.78      0.78       488\n",
      "weighted avg       0.82      0.82      0.82       488\n",
      "\n"
     ]
    }
   ],
   "source": [
    "print(classification_report(y_test, y_pred))"
   ]
  },
  {
   "cell_type": "code",
   "execution_count": 33,
   "metadata": {},
   "outputs": [
    {
     "data": {
      "text/html": [
       "<div>\n",
       "<style scoped>\n",
       "    .dataframe tbody tr th:only-of-type {\n",
       "        vertical-align: middle;\n",
       "    }\n",
       "\n",
       "    .dataframe tbody tr th {\n",
       "        vertical-align: top;\n",
       "    }\n",
       "\n",
       "    .dataframe thead th {\n",
       "        text-align: right;\n",
       "    }\n",
       "</style>\n",
       "<table border=\"1\" class=\"dataframe\">\n",
       "  <thead>\n",
       "    <tr style=\"text-align: right;\">\n",
       "      <th></th>\n",
       "      <th>0</th>\n",
       "    </tr>\n",
       "  </thead>\n",
       "  <tbody>\n",
       "    <tr>\n",
       "      <th>Churn Score</th>\n",
       "      <td>0.459055</td>\n",
       "    </tr>\n",
       "    <tr>\n",
       "      <th>Internet Service_Fiber optic</th>\n",
       "      <td>0.383983</td>\n",
       "    </tr>\n",
       "    <tr>\n",
       "      <th>Monthly Charges</th>\n",
       "      <td>0.249973</td>\n",
       "    </tr>\n",
       "    <tr>\n",
       "      <th>Total Charges</th>\n",
       "      <td>0.227268</td>\n",
       "    </tr>\n",
       "    <tr>\n",
       "      <th>Senior Citizen_Yes</th>\n",
       "      <td>0.164414</td>\n",
       "    </tr>\n",
       "    <tr>\n",
       "      <th>CLTV</th>\n",
       "      <td>0.042574</td>\n",
       "    </tr>\n",
       "    <tr>\n",
       "      <th>Phone Service_Yes</th>\n",
       "      <td>-0.156224</td>\n",
       "    </tr>\n",
       "    <tr>\n",
       "      <th>Contract_One year</th>\n",
       "      <td>-0.309706</td>\n",
       "    </tr>\n",
       "    <tr>\n",
       "      <th>Internet Service_No</th>\n",
       "      <td>-0.325495</td>\n",
       "    </tr>\n",
       "    <tr>\n",
       "      <th>Contract_Two year</th>\n",
       "      <td>-0.738674</td>\n",
       "    </tr>\n",
       "    <tr>\n",
       "      <th>Tenure Months</th>\n",
       "      <td>-1.145375</td>\n",
       "    </tr>\n",
       "  </tbody>\n",
       "</table>\n",
       "</div>"
      ],
      "text/plain": [
       "                                     0\n",
       "Churn Score                   0.459055\n",
       "Internet Service_Fiber optic  0.383983\n",
       "Monthly Charges               0.249973\n",
       "Total Charges                 0.227268\n",
       "Senior Citizen_Yes            0.164414\n",
       "CLTV                          0.042574\n",
       "Phone Service_Yes            -0.156224\n",
       "Contract_One year            -0.309706\n",
       "Internet Service_No          -0.325495\n",
       "Contract_Two year            -0.738674\n",
       "Tenure Months                -1.145375"
      ]
     },
     "metadata": {},
     "output_type": "display_data"
    },
    {
     "data": {
      "text/plain": [
       "<AxesSubplot:>"
      ]
     },
     "execution_count": 33,
     "metadata": {},
     "output_type": "execute_result"
    },
    {
     "data": {
      "image/png": "[encoded data removed]",
      "text/plain": [
       "<Figure size 432x288 with 1 Axes>"
      ]
     },
     "metadata": {
      "needs_background": "light"
     },
     "output_type": "display_data"
    }
   ],
   "source": [
    "# Je récupère la liste de coef stocker dans le tableau numpy de dimension 1:1\n",
    "importance = model.coef_[0]\n",
    "dummy_features_list = dummy_features.columns.tolist()\n",
    "\n",
    "df_importance = pd.DataFrame(data=importance, index = dummy_features_list)\n",
    "df_importance = df_importance.sort_values(0, ascending=False)\n",
    "display(df_importance)\n",
    "\n",
    "# plot feature importance\n",
    "sns.barplot(x=importance, y=dummy_features_list, data=df_importance)"
   ]
  },
  {
   "cell_type": "code",
   "execution_count": 34,
   "metadata": {},
   "outputs": [
    {
     "name": "stdout",
     "output_type": "stream",
     "text": [
      "[ 312  624  936 1248 1560]\n"
     ]
    },
    {
     "data": {
      "text/plain": [
       "<matplotlib.legend.Legend at 0x20324911f10>"
      ]
     },
     "execution_count": 34,
     "metadata": {},
     "output_type": "execute_result"
    },
    {
     "data": {
      "image/png": "[encoded data removed]",
      "text/plain": [
       "<Figure size 432x288 with 1 Axes>"
      ]
     },
     "metadata": {
      "needs_background": "light"
     },
     "output_type": "display_data"
    }
   ],
   "source": [
    "# create a learning curve\n",
    "N, train_score, val_score = learning_curve(model, X_train, y_train, train_sizes = np.linspace(0.2, 1.0, 5), cv=5)\n",
    "print(N)\n",
    "\n",
    "plt.plot(N, train_score.mean(axis=1), label='train')\n",
    "plt.plot(N, val_score.mean(axis=1), label='test')\n",
    "\n",
    "plt.xlabel('train_sizes')\n",
    "plt.ylabel('scores')\n",
    "plt.legend()"
   ]
  },
  {
   "cell_type": "markdown",
   "metadata": {},
   "source": [
    "# Random Forest"
   ]
  },
  {
   "cell_type": "code",
   "execution_count": 35,
   "metadata": {},
   "outputs": [
    {
     "data": {
      "text/plain": [
       "GridSearchCV(cv=5, estimator=RandomForestClassifier(random_state=0),\n",
       "             param_grid={'n_estimators': [10, 20, 30, 40, 50, 60, 70, 80, 90,\n",
       "                                          100, 110, 120, 130, 140, 150, 160,\n",
       "                                          170, 180, 190, 200]})"
      ]
     },
     "execution_count": 35,
     "metadata": {},
     "output_type": "execute_result"
    }
   ],
   "source": [
    "# Set the range of parameters to test\n",
    "param_grid = {'n_estimators': list(range(10,201,10))}\n",
    "\n",
    "# specify a number of split for cross validation & fit the model to the training set\n",
    "grid = GridSearchCV(RandomForestClassifier(random_state=0), param_grid, cv=5)\n",
    "\n",
    "grid.fit(X_train, y_train)"
   ]
  },
  {
   "cell_type": "code",
   "execution_count": 36,
   "metadata": {},
   "outputs": [
    {
     "name": "stdout",
     "output_type": "stream",
     "text": [
      "Best score: 0.8036881106957832\n",
      "\n",
      "It has been reached with the following parameters: {'n_estimators': 80}.\n"
     ]
    }
   ],
   "source": [
    "print(f\"Best score: {grid.best_score_}\\n\")\n",
    "print(f\"It has been reached with the following parameters: {grid.best_params_}.\")"
   ]
  },
  {
   "cell_type": "code",
   "execution_count": 37,
   "metadata": {},
   "outputs": [
    {
     "data": {
      "text/plain": [
       "0.8114754098360656"
      ]
     },
     "execution_count": 37,
     "metadata": {},
     "output_type": "execute_result"
    }
   ],
   "source": [
    "# apply the best model on the test set\n",
    "model = grid.best_estimator_\n",
    "model.score(X_test, y_test)"
   ]
  },
  {
   "cell_type": "code",
   "execution_count": 38,
   "metadata": {},
   "outputs": [
    {
     "name": "stdout",
     "output_type": "stream",
     "text": [
      "[[300  42]\n",
      " [ 50  96]]\n"
     ]
    },
    {
     "data": {
      "text/plain": [
       "<AxesSubplot:>"
      ]
     },
     "execution_count": 38,
     "metadata": {},
     "output_type": "execute_result"
    },
    {
     "data": {
      "image/png": "[encoded data removed]",
      "text/plain": [
       "<Figure size 432x288 with 2 Axes>"
      ]
     },
     "metadata": {
      "needs_background": "light"
     },
     "output_type": "display_data"
    }
   ],
   "source": [
    "# create a confusion matrix to analyse the model's accuracy\n",
    "y_pred = model.predict(X_test)\n",
    "cf_matrix = confusion_matrix(y_test, y_pred)\n",
    "print(cf_matrix)\n",
    "sns.heatmap(cf_matrix, annot=True, fmt=\"d\")"
   ]
  },
  {
   "cell_type": "code",
   "execution_count": 39,
   "metadata": {
    "scrolled": false
   },
   "outputs": [
    {
     "name": "stdout",
     "output_type": "stream",
     "text": [
      "              precision    recall  f1-score   support\n",
      "\n",
      "           0       0.86      0.88      0.87       342\n",
      "           1       0.70      0.66      0.68       146\n",
      "\n",
      "    accuracy                           0.81       488\n",
      "   macro avg       0.78      0.77      0.77       488\n",
      "weighted avg       0.81      0.81      0.81       488\n",
      "\n"
     ]
    }
   ],
   "source": [
    "print(classification_report(y_test, y_pred))"
   ]
  },
  {
   "cell_type": "code",
   "execution_count": 40,
   "metadata": {
    "scrolled": true
   },
   "outputs": [
    {
     "data": {
      "text/plain": [
       "['Tenure Months',\n",
       " 'Monthly Charges',\n",
       " 'Total Charges',\n",
       " 'Churn Score',\n",
       " 'CLTV',\n",
       " 'Senior Citizen_Yes',\n",
       " 'Phone Service_Yes',\n",
       " 'Internet Service_Fiber optic',\n",
       " 'Internet Service_No',\n",
       " 'Contract_One year',\n",
       " 'Contract_Two year']"
      ]
     },
     "execution_count": 40,
     "metadata": {},
     "output_type": "execute_result"
    }
   ],
   "source": [
    "dummy_features_list"
   ]
  },
  {
   "cell_type": "code",
   "execution_count": 41,
   "metadata": {},
   "outputs": [
    {
     "data": {
      "text/plain": [
       "array([0.18827174, 0.15567414, 0.18096735, 0.1580967 , 0.141929  ,\n",
       "       0.01508896, 0.00632455, 0.05381351, 0.02293018, 0.02823386,\n",
       "       0.04867001])"
      ]
     },
     "execution_count": 41,
     "metadata": {},
     "output_type": "execute_result"
    }
   ],
   "source": [
    "model.feature_importances_"
   ]
  },
  {
   "cell_type": "code",
   "execution_count": 42,
   "metadata": {},
   "outputs": [
    {
     "data": {
      "text/html": [
       "<div>\n",
       "<style scoped>\n",
       "    .dataframe tbody tr th:only-of-type {\n",
       "        vertical-align: middle;\n",
       "    }\n",
       "\n",
       "    .dataframe tbody tr th {\n",
       "        vertical-align: top;\n",
       "    }\n",
       "\n",
       "    .dataframe thead th {\n",
       "        text-align: right;\n",
       "    }\n",
       "</style>\n",
       "<table border=\"1\" class=\"dataframe\">\n",
       "  <thead>\n",
       "    <tr style=\"text-align: right;\">\n",
       "      <th></th>\n",
       "      <th>0</th>\n",
       "    </tr>\n",
       "  </thead>\n",
       "  <tbody>\n",
       "    <tr>\n",
       "      <th>Tenure Months</th>\n",
       "      <td>0.188272</td>\n",
       "    </tr>\n",
       "    <tr>\n",
       "      <th>Total Charges</th>\n",
       "      <td>0.180967</td>\n",
       "    </tr>\n",
       "    <tr>\n",
       "      <th>Churn Score</th>\n",
       "      <td>0.158097</td>\n",
       "    </tr>\n",
       "    <tr>\n",
       "      <th>Monthly Charges</th>\n",
       "      <td>0.155674</td>\n",
       "    </tr>\n",
       "    <tr>\n",
       "      <th>CLTV</th>\n",
       "      <td>0.141929</td>\n",
       "    </tr>\n",
       "    <tr>\n",
       "      <th>Internet Service_Fiber optic</th>\n",
       "      <td>0.053814</td>\n",
       "    </tr>\n",
       "    <tr>\n",
       "      <th>Contract_Two year</th>\n",
       "      <td>0.048670</td>\n",
       "    </tr>\n",
       "    <tr>\n",
       "      <th>Contract_One year</th>\n",
       "      <td>0.028234</td>\n",
       "    </tr>\n",
       "    <tr>\n",
       "      <th>Internet Service_No</th>\n",
       "      <td>0.022930</td>\n",
       "    </tr>\n",
       "    <tr>\n",
       "      <th>Senior Citizen_Yes</th>\n",
       "      <td>0.015089</td>\n",
       "    </tr>\n",
       "    <tr>\n",
       "      <th>Phone Service_Yes</th>\n",
       "      <td>0.006325</td>\n",
       "    </tr>\n",
       "  </tbody>\n",
       "</table>\n",
       "</div>"
      ],
      "text/plain": [
       "                                     0\n",
       "Tenure Months                 0.188272\n",
       "Total Charges                 0.180967\n",
       "Churn Score                   0.158097\n",
       "Monthly Charges               0.155674\n",
       "CLTV                          0.141929\n",
       "Internet Service_Fiber optic  0.053814\n",
       "Contract_Two year             0.048670\n",
       "Contract_One year             0.028234\n",
       "Internet Service_No           0.022930\n",
       "Senior Citizen_Yes            0.015089\n",
       "Phone Service_Yes             0.006325"
      ]
     },
     "metadata": {},
     "output_type": "display_data"
    },
    {
     "data": {
      "text/plain": [
       "<AxesSubplot:>"
      ]
     },
     "execution_count": 42,
     "metadata": {},
     "output_type": "execute_result"
    },
    {
     "data": {
      "image/png": "[encoded data removed]",
      "text/plain": [
       "<Figure size 432x288 with 1 Axes>"
      ]
     },
     "metadata": {
      "needs_background": "light"
     },
     "output_type": "display_data"
    }
   ],
   "source": [
    "importance = model.feature_importances_\n",
    "\n",
    "df_importance = pd.DataFrame(data=importance, index = dummy_features_list)\n",
    "df_importance = df_importance.sort_values(0, ascending=False)\n",
    "display(df_importance)\n",
    "\n",
    "# plot feature importance\n",
    "sns.barplot(x=importance, y=dummy_features_list, data=df_importance)"
   ]
  },
  {
   "cell_type": "code",
   "execution_count": 43,
   "metadata": {},
   "outputs": [
    {
     "name": "stdout",
     "output_type": "stream",
     "text": [
      "[ 312  624  936 1248 1560]\n"
     ]
    },
    {
     "data": {
      "text/plain": [
       "<matplotlib.legend.Legend at 0x20324aac0d0>"
      ]
     },
     "execution_count": 43,
     "metadata": {},
     "output_type": "execute_result"
    },
    {
     "data": {
      "image/png": "[encoded data removed]",
      "text/plain": [
       "<Figure size 432x288 with 1 Axes>"
      ]
     },
     "metadata": {
      "needs_background": "light"
     },
     "output_type": "display_data"
    }
   ],
   "source": [
    "N, train_score, val_score = learning_curve(model, X_train, y_train, train_sizes = np.linspace(0.2, 1.0, 5), cv=5)\n",
    "print(N)\n",
    "\n",
    "plt.plot(N, train_score.mean(axis=1), label='train')\n",
    "plt.plot(N, val_score.mean(axis=1), label='test')\n",
    "\n",
    "plt.xlabel('train_sizes')\n",
    "plt.ylabel('scores')\n",
    "plt.legend()"
   ]
  },
  {
   "cell_type": "markdown",
   "metadata": {},
   "source": [
    "## Conclusion"
   ]
  },
  {
   "cell_type": "markdown",
   "metadata": {},
   "source": [
    "<p>Logistic Regression is the model that better performed on this prediction with an accuracy of 0.82. This means that we managed to predict if a customer will churn or not in 82% of the cases.<br>\n",
    "Furthermore, Logistic Regression is reaching the best combination of precision score (0.70) and recall score (0.69).</p>\n",
    "\n",
    "<p>Nevertheless, the learning curve show that keeping adding values would enhance the model performances.</p>\n",
    "\n",
    "<p>Finally, we meet some limits working with fictional data, as we harldy find real patterns and trends in our analysis. It could be interesting to apply this analysis on a concrete business, and try to tune more hyperparameters to improve our models prediction.</p>"
   ]
  }
 ],
 "metadata": {
  "kernelspec": {
   "display_name": "Python 3",
   "language": "python",
   "name": "python3"
  },
  "language_info": {
   "codemirror_mode": {
    "name": "ipython",
    "version": 3
   },
   "file_extension": ".py",
   "mimetype": "text/x-python",
   "name": "python",
   "nbconvert_exporter": "python",
   "pygments_lexer": "ipython3",
   "version": "3.8.5"
  }
 },
 "nbformat": 4,
 "nbformat_minor": 4
}
